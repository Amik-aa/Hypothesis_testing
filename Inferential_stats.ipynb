{
 "cells": [
  {
   "cell_type": "markdown",
   "id": "f55211b7",
   "metadata": {},
   "source": [
    "Hypothesis testing is a statistical method used to make inferences and draw conclusions about a population based on sample data.\n",
    "It involves formulating a null hypothesis and an alternative hypothesis,collecting data, and analyzing the data to determine whether there is sufficient evidence to reject or fail to reject the null hypothesis."
   ]
  },
  {
   "cell_type": "markdown",
   "id": "0e02b369",
   "metadata": {},
   "source": [
    "Steps to perform hypothesis testing\n",
    "1.Data cleaning\n",
    "2.create samples\n",
    "3.state the null and alternate hypothesis\n",
    "--null hypothesis       (mean=10)\n",
    "--Alternate hypothesis  (mean!=10)\n",
    "4.apply suitable testing \n",
    "5.calculate p-value\n",
    "6.p-value>0.05 accept null hypothesis\n",
    "  p-value<0.05 Reject null hypothesis"
   ]
  },
  {
   "cell_type": "markdown",
   "id": "72ca8ebf",
   "metadata": {},
   "source": [
    "Importing required libraries and packages"
   ]
  },
  {
   "cell_type": "code",
   "execution_count": 1,
   "id": "a3cbd48b",
   "metadata": {},
   "outputs": [],
   "source": [
    "import pandas as pd\n",
    "import numpy as np\n",
    "import matplotlib.pyplot as plt\n",
    "import seaborn as sns\n",
    "import warnings\n",
    "warnings.filterwarnings(\"ignore\")"
   ]
  },
  {
   "cell_type": "code",
   "execution_count": 2,
   "id": "e1050298",
   "metadata": {},
   "outputs": [
    {
     "ename": "FileNotFoundError",
     "evalue": "[Errno 2] No such file or directory: 'product_purchase_data.csv'",
     "output_type": "error",
     "traceback": [
      "\u001b[1;31m---------------------------------------------------------------------------\u001b[0m",
      "\u001b[1;31mFileNotFoundError\u001b[0m                         Traceback (most recent call last)",
      "\u001b[1;32m~\\AppData\\Local\\Temp\\ipykernel_21856\\4145537272.py\u001b[0m in \u001b[0;36m<module>\u001b[1;34m\u001b[0m\n\u001b[1;32m----> 1\u001b[1;33m \u001b[0mdf\u001b[0m\u001b[1;33m=\u001b[0m\u001b[0mpd\u001b[0m\u001b[1;33m.\u001b[0m\u001b[0mread_csv\u001b[0m\u001b[1;33m(\u001b[0m\u001b[1;34m\"product_purchase_data.csv\"\u001b[0m\u001b[1;33m)\u001b[0m\u001b[1;33m\u001b[0m\u001b[1;33m\u001b[0m\u001b[0m\n\u001b[0m",
      "\u001b[1;32m~\\anaconda3\\lib\\site-packages\\pandas\\util\\_decorators.py\u001b[0m in \u001b[0;36mwrapper\u001b[1;34m(*args, **kwargs)\u001b[0m\n\u001b[0;32m    309\u001b[0m                     \u001b[0mstacklevel\u001b[0m\u001b[1;33m=\u001b[0m\u001b[0mstacklevel\u001b[0m\u001b[1;33m,\u001b[0m\u001b[1;33m\u001b[0m\u001b[1;33m\u001b[0m\u001b[0m\n\u001b[0;32m    310\u001b[0m                 )\n\u001b[1;32m--> 311\u001b[1;33m             \u001b[1;32mreturn\u001b[0m \u001b[0mfunc\u001b[0m\u001b[1;33m(\u001b[0m\u001b[1;33m*\u001b[0m\u001b[0margs\u001b[0m\u001b[1;33m,\u001b[0m \u001b[1;33m**\u001b[0m\u001b[0mkwargs\u001b[0m\u001b[1;33m)\u001b[0m\u001b[1;33m\u001b[0m\u001b[1;33m\u001b[0m\u001b[0m\n\u001b[0m\u001b[0;32m    312\u001b[0m \u001b[1;33m\u001b[0m\u001b[0m\n\u001b[0;32m    313\u001b[0m         \u001b[1;32mreturn\u001b[0m \u001b[0mwrapper\u001b[0m\u001b[1;33m\u001b[0m\u001b[1;33m\u001b[0m\u001b[0m\n",
      "\u001b[1;32m~\\anaconda3\\lib\\site-packages\\pandas\\io\\parsers\\readers.py\u001b[0m in \u001b[0;36mread_csv\u001b[1;34m(filepath_or_buffer, sep, delimiter, header, names, index_col, usecols, squeeze, prefix, mangle_dupe_cols, dtype, engine, converters, true_values, false_values, skipinitialspace, skiprows, skipfooter, nrows, na_values, keep_default_na, na_filter, verbose, skip_blank_lines, parse_dates, infer_datetime_format, keep_date_col, date_parser, dayfirst, cache_dates, iterator, chunksize, compression, thousands, decimal, lineterminator, quotechar, quoting, doublequote, escapechar, comment, encoding, encoding_errors, dialect, error_bad_lines, warn_bad_lines, on_bad_lines, delim_whitespace, low_memory, memory_map, float_precision, storage_options)\u001b[0m\n\u001b[0;32m    676\u001b[0m     \u001b[0mkwds\u001b[0m\u001b[1;33m.\u001b[0m\u001b[0mupdate\u001b[0m\u001b[1;33m(\u001b[0m\u001b[0mkwds_defaults\u001b[0m\u001b[1;33m)\u001b[0m\u001b[1;33m\u001b[0m\u001b[1;33m\u001b[0m\u001b[0m\n\u001b[0;32m    677\u001b[0m \u001b[1;33m\u001b[0m\u001b[0m\n\u001b[1;32m--> 678\u001b[1;33m     \u001b[1;32mreturn\u001b[0m \u001b[0m_read\u001b[0m\u001b[1;33m(\u001b[0m\u001b[0mfilepath_or_buffer\u001b[0m\u001b[1;33m,\u001b[0m \u001b[0mkwds\u001b[0m\u001b[1;33m)\u001b[0m\u001b[1;33m\u001b[0m\u001b[1;33m\u001b[0m\u001b[0m\n\u001b[0m\u001b[0;32m    679\u001b[0m \u001b[1;33m\u001b[0m\u001b[0m\n\u001b[0;32m    680\u001b[0m \u001b[1;33m\u001b[0m\u001b[0m\n",
      "\u001b[1;32m~\\anaconda3\\lib\\site-packages\\pandas\\io\\parsers\\readers.py\u001b[0m in \u001b[0;36m_read\u001b[1;34m(filepath_or_buffer, kwds)\u001b[0m\n\u001b[0;32m    573\u001b[0m \u001b[1;33m\u001b[0m\u001b[0m\n\u001b[0;32m    574\u001b[0m     \u001b[1;31m# Create the parser.\u001b[0m\u001b[1;33m\u001b[0m\u001b[1;33m\u001b[0m\u001b[0m\n\u001b[1;32m--> 575\u001b[1;33m     \u001b[0mparser\u001b[0m \u001b[1;33m=\u001b[0m \u001b[0mTextFileReader\u001b[0m\u001b[1;33m(\u001b[0m\u001b[0mfilepath_or_buffer\u001b[0m\u001b[1;33m,\u001b[0m \u001b[1;33m**\u001b[0m\u001b[0mkwds\u001b[0m\u001b[1;33m)\u001b[0m\u001b[1;33m\u001b[0m\u001b[1;33m\u001b[0m\u001b[0m\n\u001b[0m\u001b[0;32m    576\u001b[0m \u001b[1;33m\u001b[0m\u001b[0m\n\u001b[0;32m    577\u001b[0m     \u001b[1;32mif\u001b[0m \u001b[0mchunksize\u001b[0m \u001b[1;32mor\u001b[0m \u001b[0miterator\u001b[0m\u001b[1;33m:\u001b[0m\u001b[1;33m\u001b[0m\u001b[1;33m\u001b[0m\u001b[0m\n",
      "\u001b[1;32m~\\anaconda3\\lib\\site-packages\\pandas\\io\\parsers\\readers.py\u001b[0m in \u001b[0;36m__init__\u001b[1;34m(self, f, engine, **kwds)\u001b[0m\n\u001b[0;32m    930\u001b[0m \u001b[1;33m\u001b[0m\u001b[0m\n\u001b[0;32m    931\u001b[0m         \u001b[0mself\u001b[0m\u001b[1;33m.\u001b[0m\u001b[0mhandles\u001b[0m\u001b[1;33m:\u001b[0m \u001b[0mIOHandles\u001b[0m \u001b[1;33m|\u001b[0m \u001b[1;32mNone\u001b[0m \u001b[1;33m=\u001b[0m \u001b[1;32mNone\u001b[0m\u001b[1;33m\u001b[0m\u001b[1;33m\u001b[0m\u001b[0m\n\u001b[1;32m--> 932\u001b[1;33m         \u001b[0mself\u001b[0m\u001b[1;33m.\u001b[0m\u001b[0m_engine\u001b[0m \u001b[1;33m=\u001b[0m \u001b[0mself\u001b[0m\u001b[1;33m.\u001b[0m\u001b[0m_make_engine\u001b[0m\u001b[1;33m(\u001b[0m\u001b[0mf\u001b[0m\u001b[1;33m,\u001b[0m \u001b[0mself\u001b[0m\u001b[1;33m.\u001b[0m\u001b[0mengine\u001b[0m\u001b[1;33m)\u001b[0m\u001b[1;33m\u001b[0m\u001b[1;33m\u001b[0m\u001b[0m\n\u001b[0m\u001b[0;32m    933\u001b[0m \u001b[1;33m\u001b[0m\u001b[0m\n\u001b[0;32m    934\u001b[0m     \u001b[1;32mdef\u001b[0m \u001b[0mclose\u001b[0m\u001b[1;33m(\u001b[0m\u001b[0mself\u001b[0m\u001b[1;33m)\u001b[0m\u001b[1;33m:\u001b[0m\u001b[1;33m\u001b[0m\u001b[1;33m\u001b[0m\u001b[0m\n",
      "\u001b[1;32m~\\anaconda3\\lib\\site-packages\\pandas\\io\\parsers\\readers.py\u001b[0m in \u001b[0;36m_make_engine\u001b[1;34m(self, f, engine)\u001b[0m\n\u001b[0;32m   1214\u001b[0m             \u001b[1;31m# \"Union[str, PathLike[str], ReadCsvBuffer[bytes], ReadCsvBuffer[str]]\"\u001b[0m\u001b[1;33m\u001b[0m\u001b[1;33m\u001b[0m\u001b[0m\n\u001b[0;32m   1215\u001b[0m             \u001b[1;31m# , \"str\", \"bool\", \"Any\", \"Any\", \"Any\", \"Any\", \"Any\"\u001b[0m\u001b[1;33m\u001b[0m\u001b[1;33m\u001b[0m\u001b[0m\n\u001b[1;32m-> 1216\u001b[1;33m             self.handles = get_handle(  # type: ignore[call-overload]\n\u001b[0m\u001b[0;32m   1217\u001b[0m                 \u001b[0mf\u001b[0m\u001b[1;33m,\u001b[0m\u001b[1;33m\u001b[0m\u001b[1;33m\u001b[0m\u001b[0m\n\u001b[0;32m   1218\u001b[0m                 \u001b[0mmode\u001b[0m\u001b[1;33m,\u001b[0m\u001b[1;33m\u001b[0m\u001b[1;33m\u001b[0m\u001b[0m\n",
      "\u001b[1;32m~\\anaconda3\\lib\\site-packages\\pandas\\io\\common.py\u001b[0m in \u001b[0;36mget_handle\u001b[1;34m(path_or_buf, mode, encoding, compression, memory_map, is_text, errors, storage_options)\u001b[0m\n\u001b[0;32m    784\u001b[0m         \u001b[1;32mif\u001b[0m \u001b[0mioargs\u001b[0m\u001b[1;33m.\u001b[0m\u001b[0mencoding\u001b[0m \u001b[1;32mand\u001b[0m \u001b[1;34m\"b\"\u001b[0m \u001b[1;32mnot\u001b[0m \u001b[1;32min\u001b[0m \u001b[0mioargs\u001b[0m\u001b[1;33m.\u001b[0m\u001b[0mmode\u001b[0m\u001b[1;33m:\u001b[0m\u001b[1;33m\u001b[0m\u001b[1;33m\u001b[0m\u001b[0m\n\u001b[0;32m    785\u001b[0m             \u001b[1;31m# Encoding\u001b[0m\u001b[1;33m\u001b[0m\u001b[1;33m\u001b[0m\u001b[0m\n\u001b[1;32m--> 786\u001b[1;33m             handle = open(\n\u001b[0m\u001b[0;32m    787\u001b[0m                 \u001b[0mhandle\u001b[0m\u001b[1;33m,\u001b[0m\u001b[1;33m\u001b[0m\u001b[1;33m\u001b[0m\u001b[0m\n\u001b[0;32m    788\u001b[0m                 \u001b[0mioargs\u001b[0m\u001b[1;33m.\u001b[0m\u001b[0mmode\u001b[0m\u001b[1;33m,\u001b[0m\u001b[1;33m\u001b[0m\u001b[1;33m\u001b[0m\u001b[0m\n",
      "\u001b[1;31mFileNotFoundError\u001b[0m: [Errno 2] No such file or directory: 'product_purchase_data.csv'"
     ]
    }
   ],
   "source": [
    "df=pd.read_csv(\"product_purchase_data.csv\")"
   ]
  },
  {
   "cell_type": "code",
   "execution_count": 3,
   "id": "76ca94b7",
   "metadata": {
    "scrolled": true
   },
   "outputs": [
    {
     "ename": "NameError",
     "evalue": "name 'df' is not defined",
     "output_type": "error",
     "traceback": [
      "\u001b[1;31m---------------------------------------------------------------------------\u001b[0m",
      "\u001b[1;31mNameError\u001b[0m                                 Traceback (most recent call last)",
      "\u001b[1;32m~\\AppData\\Local\\Temp\\ipykernel_21856\\1396537375.py\u001b[0m in \u001b[0;36m<module>\u001b[1;34m\u001b[0m\n\u001b[1;32m----> 1\u001b[1;33m \u001b[0mdf\u001b[0m\u001b[1;33m\u001b[0m\u001b[1;33m\u001b[0m\u001b[0m\n\u001b[0m",
      "\u001b[1;31mNameError\u001b[0m: name 'df' is not defined"
     ]
    }
   ],
   "source": [
    "df"
   ]
  },
  {
   "cell_type": "markdown",
   "id": "6cb51da5",
   "metadata": {},
   "source": [
    "Problem Statement\n",
    "a. It was observed that the average purchase made by the Men between the age 18-25 was 10000. Is it still the same?\n",
    "b. It was observed that the percentage of women of that spend more than 10000 was 35%. Is it still the same?\n",
    "c. Is the average purchase made by men and women of the age18-25 same?\n",
    "d. Is the percentage of men who have spent more than 10000 the same for the ages 18-25 and 26-35?"
   ]
  },
  {
   "cell_type": "markdown",
   "id": "9349d026",
   "metadata": {},
   "source": [
    "## Exploratory data analysis"
   ]
  },
  {
   "cell_type": "code",
   "execution_count": 4,
   "id": "ed250704",
   "metadata": {},
   "outputs": [
    {
     "data": {
      "text/plain": [
       "array(['2', '4+', '3', '1', '0', nan], dtype=object)"
      ]
     },
     "execution_count": 4,
     "metadata": {},
     "output_type": "execute_result"
    }
   ],
   "source": [
    "df[\"Stay_In_Current_City_Years\"].unique()"
   ]
  },
  {
   "cell_type": "code",
   "execution_count": 5,
   "id": "1289febd",
   "metadata": {},
   "outputs": [
    {
     "name": "stdout",
     "output_type": "stream",
     "text": [
      "<class 'pandas.core.frame.DataFrame'>\n",
      "RangeIndex: 263015 entries, 0 to 263014\n",
      "Data columns (total 12 columns):\n",
      " #   Column                      Non-Null Count   Dtype  \n",
      "---  ------                      --------------   -----  \n",
      " 0   User_ID                     263015 non-null  int64  \n",
      " 1   Product_ID                  263014 non-null  object \n",
      " 2   Gender                      263014 non-null  object \n",
      " 3   Age                         263014 non-null  object \n",
      " 4   Occupation                  263014 non-null  float64\n",
      " 5   City_Category               263014 non-null  object \n",
      " 6   Stay_In_Current_City_Years  263014 non-null  object \n",
      " 7   Marital_Status              263014 non-null  float64\n",
      " 8   Product_Category_1          263014 non-null  float64\n",
      " 9   Product_Category_2          181501 non-null  float64\n",
      " 10  Product_Category_3          80582 non-null   float64\n",
      " 11  Purchase                    263014 non-null  float64\n",
      "dtypes: float64(6), int64(1), object(5)\n",
      "memory usage: 24.1+ MB\n"
     ]
    }
   ],
   "source": [
    "df.info()"
   ]
  },
  {
   "cell_type": "code",
   "execution_count": 6,
   "id": "cae512d9",
   "metadata": {},
   "outputs": [],
   "source": [
    " #changing all the values for 4+ to 4 \n",
    "df['Stay_In_Current_City_Years'] = df['Stay_In_Current_City_Years'].replace('4+', '4')"
   ]
  },
  {
   "cell_type": "code",
   "execution_count": 7,
   "id": "1b19928f",
   "metadata": {},
   "outputs": [
    {
     "data": {
      "text/html": [
       "<div>\n",
       "<style scoped>\n",
       "    .dataframe tbody tr th:only-of-type {\n",
       "        vertical-align: middle;\n",
       "    }\n",
       "\n",
       "    .dataframe tbody tr th {\n",
       "        vertical-align: top;\n",
       "    }\n",
       "\n",
       "    .dataframe thead th {\n",
       "        text-align: right;\n",
       "    }\n",
       "</style>\n",
       "<table border=\"1\" class=\"dataframe\">\n",
       "  <thead>\n",
       "    <tr style=\"text-align: right;\">\n",
       "      <th></th>\n",
       "      <th>User_ID</th>\n",
       "      <th>Product_ID</th>\n",
       "      <th>Gender</th>\n",
       "      <th>Age</th>\n",
       "      <th>Occupation</th>\n",
       "      <th>City_Category</th>\n",
       "      <th>Stay_In_Current_City_Years</th>\n",
       "      <th>Marital_Status</th>\n",
       "      <th>Product_Category_1</th>\n",
       "      <th>Product_Category_2</th>\n",
       "      <th>Product_Category_3</th>\n",
       "      <th>Purchase</th>\n",
       "    </tr>\n",
       "  </thead>\n",
       "  <tbody>\n",
       "    <tr>\n",
       "      <th>0</th>\n",
       "      <td>1000001</td>\n",
       "      <td>P00069042</td>\n",
       "      <td>F</td>\n",
       "      <td>0-17</td>\n",
       "      <td>10.0</td>\n",
       "      <td>A</td>\n",
       "      <td>2</td>\n",
       "      <td>0.0</td>\n",
       "      <td>3.0</td>\n",
       "      <td>NaN</td>\n",
       "      <td>NaN</td>\n",
       "      <td>8370.0</td>\n",
       "    </tr>\n",
       "    <tr>\n",
       "      <th>1</th>\n",
       "      <td>1000001</td>\n",
       "      <td>P00248942</td>\n",
       "      <td>F</td>\n",
       "      <td>0-17</td>\n",
       "      <td>10.0</td>\n",
       "      <td>A</td>\n",
       "      <td>2</td>\n",
       "      <td>0.0</td>\n",
       "      <td>1.0</td>\n",
       "      <td>6.0</td>\n",
       "      <td>14.0</td>\n",
       "      <td>15200.0</td>\n",
       "    </tr>\n",
       "    <tr>\n",
       "      <th>2</th>\n",
       "      <td>1000001</td>\n",
       "      <td>P00087842</td>\n",
       "      <td>F</td>\n",
       "      <td>0-17</td>\n",
       "      <td>10.0</td>\n",
       "      <td>A</td>\n",
       "      <td>2</td>\n",
       "      <td>0.0</td>\n",
       "      <td>12.0</td>\n",
       "      <td>NaN</td>\n",
       "      <td>NaN</td>\n",
       "      <td>1422.0</td>\n",
       "    </tr>\n",
       "    <tr>\n",
       "      <th>3</th>\n",
       "      <td>1000001</td>\n",
       "      <td>P00085442</td>\n",
       "      <td>F</td>\n",
       "      <td>0-17</td>\n",
       "      <td>10.0</td>\n",
       "      <td>A</td>\n",
       "      <td>2</td>\n",
       "      <td>0.0</td>\n",
       "      <td>12.0</td>\n",
       "      <td>14.0</td>\n",
       "      <td>NaN</td>\n",
       "      <td>1057.0</td>\n",
       "    </tr>\n",
       "    <tr>\n",
       "      <th>4</th>\n",
       "      <td>1000002</td>\n",
       "      <td>P00285442</td>\n",
       "      <td>M</td>\n",
       "      <td>55+</td>\n",
       "      <td>16.0</td>\n",
       "      <td>C</td>\n",
       "      <td>4</td>\n",
       "      <td>0.0</td>\n",
       "      <td>8.0</td>\n",
       "      <td>NaN</td>\n",
       "      <td>NaN</td>\n",
       "      <td>7969.0</td>\n",
       "    </tr>\n",
       "    <tr>\n",
       "      <th>...</th>\n",
       "      <td>...</td>\n",
       "      <td>...</td>\n",
       "      <td>...</td>\n",
       "      <td>...</td>\n",
       "      <td>...</td>\n",
       "      <td>...</td>\n",
       "      <td>...</td>\n",
       "      <td>...</td>\n",
       "      <td>...</td>\n",
       "      <td>...</td>\n",
       "      <td>...</td>\n",
       "      <td>...</td>\n",
       "    </tr>\n",
       "    <tr>\n",
       "      <th>263010</th>\n",
       "      <td>1004473</td>\n",
       "      <td>P00041942</td>\n",
       "      <td>M</td>\n",
       "      <td>36-45</td>\n",
       "      <td>1.0</td>\n",
       "      <td>B</td>\n",
       "      <td>3</td>\n",
       "      <td>0.0</td>\n",
       "      <td>5.0</td>\n",
       "      <td>18.0</td>\n",
       "      <td>NaN</td>\n",
       "      <td>3722.0</td>\n",
       "    </tr>\n",
       "    <tr>\n",
       "      <th>263011</th>\n",
       "      <td>1004473</td>\n",
       "      <td>P00115142</td>\n",
       "      <td>M</td>\n",
       "      <td>36-45</td>\n",
       "      <td>1.0</td>\n",
       "      <td>B</td>\n",
       "      <td>3</td>\n",
       "      <td>0.0</td>\n",
       "      <td>1.0</td>\n",
       "      <td>8.0</td>\n",
       "      <td>17.0</td>\n",
       "      <td>19253.0</td>\n",
       "    </tr>\n",
       "    <tr>\n",
       "      <th>263012</th>\n",
       "      <td>1004473</td>\n",
       "      <td>P00188442</td>\n",
       "      <td>M</td>\n",
       "      <td>36-45</td>\n",
       "      <td>1.0</td>\n",
       "      <td>B</td>\n",
       "      <td>3</td>\n",
       "      <td>0.0</td>\n",
       "      <td>5.0</td>\n",
       "      <td>7.0</td>\n",
       "      <td>NaN</td>\n",
       "      <td>3608.0</td>\n",
       "    </tr>\n",
       "    <tr>\n",
       "      <th>263013</th>\n",
       "      <td>1004473</td>\n",
       "      <td>P00119442</td>\n",
       "      <td>M</td>\n",
       "      <td>36-45</td>\n",
       "      <td>1.0</td>\n",
       "      <td>B</td>\n",
       "      <td>3</td>\n",
       "      <td>0.0</td>\n",
       "      <td>5.0</td>\n",
       "      <td>NaN</td>\n",
       "      <td>NaN</td>\n",
       "      <td>3604.0</td>\n",
       "    </tr>\n",
       "    <tr>\n",
       "      <th>263014</th>\n",
       "      <td>10</td>\n",
       "      <td>NaN</td>\n",
       "      <td>NaN</td>\n",
       "      <td>NaN</td>\n",
       "      <td>NaN</td>\n",
       "      <td>NaN</td>\n",
       "      <td>NaN</td>\n",
       "      <td>NaN</td>\n",
       "      <td>NaN</td>\n",
       "      <td>NaN</td>\n",
       "      <td>NaN</td>\n",
       "      <td>NaN</td>\n",
       "    </tr>\n",
       "  </tbody>\n",
       "</table>\n",
       "<p>263015 rows × 12 columns</p>\n",
       "</div>"
      ],
      "text/plain": [
       "        User_ID Product_ID Gender    Age  Occupation City_Category  \\\n",
       "0       1000001  P00069042      F   0-17        10.0             A   \n",
       "1       1000001  P00248942      F   0-17        10.0             A   \n",
       "2       1000001  P00087842      F   0-17        10.0             A   \n",
       "3       1000001  P00085442      F   0-17        10.0             A   \n",
       "4       1000002  P00285442      M    55+        16.0             C   \n",
       "...         ...        ...    ...    ...         ...           ...   \n",
       "263010  1004473  P00041942      M  36-45         1.0             B   \n",
       "263011  1004473  P00115142      M  36-45         1.0             B   \n",
       "263012  1004473  P00188442      M  36-45         1.0             B   \n",
       "263013  1004473  P00119442      M  36-45         1.0             B   \n",
       "263014       10        NaN    NaN    NaN         NaN           NaN   \n",
       "\n",
       "       Stay_In_Current_City_Years  Marital_Status  Product_Category_1  \\\n",
       "0                               2             0.0                 3.0   \n",
       "1                               2             0.0                 1.0   \n",
       "2                               2             0.0                12.0   \n",
       "3                               2             0.0                12.0   \n",
       "4                               4             0.0                 8.0   \n",
       "...                           ...             ...                 ...   \n",
       "263010                          3             0.0                 5.0   \n",
       "263011                          3             0.0                 1.0   \n",
       "263012                          3             0.0                 5.0   \n",
       "263013                          3             0.0                 5.0   \n",
       "263014                        NaN             NaN                 NaN   \n",
       "\n",
       "        Product_Category_2  Product_Category_3  Purchase  \n",
       "0                      NaN                 NaN    8370.0  \n",
       "1                      6.0                14.0   15200.0  \n",
       "2                      NaN                 NaN    1422.0  \n",
       "3                     14.0                 NaN    1057.0  \n",
       "4                      NaN                 NaN    7969.0  \n",
       "...                    ...                 ...       ...  \n",
       "263010                18.0                 NaN    3722.0  \n",
       "263011                 8.0                17.0   19253.0  \n",
       "263012                 7.0                 NaN    3608.0  \n",
       "263013                 NaN                 NaN    3604.0  \n",
       "263014                 NaN                 NaN       NaN  \n",
       "\n",
       "[263015 rows x 12 columns]"
      ]
     },
     "execution_count": 7,
     "metadata": {},
     "output_type": "execute_result"
    }
   ],
   "source": [
    "df"
   ]
  },
  {
   "cell_type": "code",
   "execution_count": 8,
   "id": "a30b530a",
   "metadata": {},
   "outputs": [],
   "source": [
    "df['Stay_In_Current_City_Years'] = pd.to_numeric(df['Stay_In_Current_City_Years'],errors=\"coerce\")"
   ]
  },
  {
   "cell_type": "code",
   "execution_count": 9,
   "id": "2a5e98f0",
   "metadata": {
    "scrolled": true
   },
   "outputs": [
    {
     "name": "stdout",
     "output_type": "stream",
     "text": [
      "<class 'pandas.core.frame.DataFrame'>\n",
      "RangeIndex: 263015 entries, 0 to 263014\n",
      "Data columns (total 12 columns):\n",
      " #   Column                      Non-Null Count   Dtype  \n",
      "---  ------                      --------------   -----  \n",
      " 0   User_ID                     263015 non-null  int64  \n",
      " 1   Product_ID                  263014 non-null  object \n",
      " 2   Gender                      263014 non-null  object \n",
      " 3   Age                         263014 non-null  object \n",
      " 4   Occupation                  263014 non-null  float64\n",
      " 5   City_Category               263014 non-null  object \n",
      " 6   Stay_In_Current_City_Years  263014 non-null  float64\n",
      " 7   Marital_Status              263014 non-null  float64\n",
      " 8   Product_Category_1          263014 non-null  float64\n",
      " 9   Product_Category_2          181501 non-null  float64\n",
      " 10  Product_Category_3          80582 non-null   float64\n",
      " 11  Purchase                    263014 non-null  float64\n",
      "dtypes: float64(7), int64(1), object(4)\n",
      "memory usage: 24.1+ MB\n"
     ]
    }
   ],
   "source": [
    "df.info()"
   ]
  },
  {
   "cell_type": "code",
   "execution_count": 10,
   "id": "88ab4d10",
   "metadata": {},
   "outputs": [
    {
     "name": "stdout",
     "output_type": "stream",
     "text": [
      "Categories in 'User_ID' variable:      [1000001 1000002 1000003 ... 1005391 1001529      10]\n",
      "Categories in 'Product_ID' variable:   ['P00069042' 'P00248942' 'P00087842' ... 'P00314742' 'P00236242' nan]\n",
      "Categories in'Gender' variable: ['F' 'M' nan]\n",
      "Categories in 'Age' variable:      ['0-17' '55+' '26-35' '46-50' '51-55' '36-45' '18-25' nan]\n",
      "Categories in 'Occupation' variable:      [10. 16. 15.  7. 20.  9.  1. 12. 17.  0.  3.  4. 11.  8. 19.  2. 18.  5.\n",
      " 14. 13.  6. nan]\n",
      "Categories in 'City_Category' variable:      ['A' 'C' 'B' nan]\n",
      "Categories in 'Stay_In_Current_City_Years' variable:      [ 2.  4.  3.  1.  0. nan]\n",
      "Categories in 'Marital_Status' variable:      [ 0.  1. nan]\n"
     ]
    }
   ],
   "source": [
    "print(\"Categories in 'User_ID' variable:     \",end=\" \" )\n",
    "print(df['User_ID'].unique())\n",
    "\n",
    "print(\"Categories in 'Product_ID' variable:  \",end=\" \")\n",
    "print(df['Product_ID'].unique())\n",
    "\n",
    "print(\"Categories in'Gender' variable:\",end=\" \" )\n",
    "print(df['Gender'].unique())\n",
    "\n",
    "print(\"Categories in 'Age' variable:     \",end=\" \" )\n",
    "print(df['Age'].unique())\n",
    "\n",
    "print(\"Categories in 'Occupation' variable:     \",end=\" \" )\n",
    "print(df['Occupation'].unique())\n",
    "\n",
    "print(\"Categories in 'City_Category' variable:     \",end=\" \" )\n",
    "print(df['City_Category'].unique())\n",
    "\n",
    "print(\"Categories in 'Stay_In_Current_City_Years' variable:     \",end=\" \" )\n",
    "print(df['Stay_In_Current_City_Years'].unique())\n",
    "\n",
    "print(\"Categories in 'Marital_Status' variable:     \",end=\" \" )\n",
    "print(df['Marital_Status'].unique())\n",
    "\n"
   ]
  },
  {
   "cell_type": "code",
   "execution_count": 11,
   "id": "e619aca8",
   "metadata": {},
   "outputs": [
    {
     "data": {
      "text/plain": [
       "User_ID                            0\n",
       "Product_ID                         1\n",
       "Gender                             1\n",
       "Age                                1\n",
       "Occupation                         1\n",
       "City_Category                      1\n",
       "Stay_In_Current_City_Years         1\n",
       "Marital_Status                     1\n",
       "Product_Category_1                 1\n",
       "Product_Category_2             81514\n",
       "Product_Category_3            182433\n",
       "Purchase                           1\n",
       "dtype: int64"
      ]
     },
     "execution_count": 11,
     "metadata": {},
     "output_type": "execute_result"
    }
   ],
   "source": [
    "df.isna().sum()"
   ]
  },
  {
   "cell_type": "code",
   "execution_count": 12,
   "id": "b3fb8a78",
   "metadata": {},
   "outputs": [],
   "source": [
    "df.dropna(inplace=True)"
   ]
  },
  {
   "cell_type": "code",
   "execution_count": 13,
   "id": "38fa339f",
   "metadata": {},
   "outputs": [
    {
     "data": {
      "text/html": [
       "<div>\n",
       "<style scoped>\n",
       "    .dataframe tbody tr th:only-of-type {\n",
       "        vertical-align: middle;\n",
       "    }\n",
       "\n",
       "    .dataframe tbody tr th {\n",
       "        vertical-align: top;\n",
       "    }\n",
       "\n",
       "    .dataframe thead th {\n",
       "        text-align: right;\n",
       "    }\n",
       "</style>\n",
       "<table border=\"1\" class=\"dataframe\">\n",
       "  <thead>\n",
       "    <tr style=\"text-align: right;\">\n",
       "      <th></th>\n",
       "      <th>User_ID</th>\n",
       "      <th>Product_ID</th>\n",
       "      <th>Gender</th>\n",
       "      <th>Age</th>\n",
       "      <th>Occupation</th>\n",
       "      <th>City_Category</th>\n",
       "      <th>Stay_In_Current_City_Years</th>\n",
       "      <th>Marital_Status</th>\n",
       "      <th>Product_Category_1</th>\n",
       "      <th>Product_Category_2</th>\n",
       "      <th>Product_Category_3</th>\n",
       "      <th>Purchase</th>\n",
       "    </tr>\n",
       "  </thead>\n",
       "  <tbody>\n",
       "    <tr>\n",
       "      <th>1</th>\n",
       "      <td>1000001</td>\n",
       "      <td>P00248942</td>\n",
       "      <td>F</td>\n",
       "      <td>0-17</td>\n",
       "      <td>10.0</td>\n",
       "      <td>A</td>\n",
       "      <td>2.0</td>\n",
       "      <td>0.0</td>\n",
       "      <td>1.0</td>\n",
       "      <td>6.0</td>\n",
       "      <td>14.0</td>\n",
       "      <td>15200.0</td>\n",
       "    </tr>\n",
       "    <tr>\n",
       "      <th>6</th>\n",
       "      <td>1000004</td>\n",
       "      <td>P00184942</td>\n",
       "      <td>M</td>\n",
       "      <td>46-50</td>\n",
       "      <td>7.0</td>\n",
       "      <td>B</td>\n",
       "      <td>2.0</td>\n",
       "      <td>1.0</td>\n",
       "      <td>1.0</td>\n",
       "      <td>8.0</td>\n",
       "      <td>17.0</td>\n",
       "      <td>19215.0</td>\n",
       "    </tr>\n",
       "    <tr>\n",
       "      <th>13</th>\n",
       "      <td>1000005</td>\n",
       "      <td>P00145042</td>\n",
       "      <td>M</td>\n",
       "      <td>26-35</td>\n",
       "      <td>20.0</td>\n",
       "      <td>A</td>\n",
       "      <td>1.0</td>\n",
       "      <td>1.0</td>\n",
       "      <td>1.0</td>\n",
       "      <td>2.0</td>\n",
       "      <td>5.0</td>\n",
       "      <td>15665.0</td>\n",
       "    </tr>\n",
       "    <tr>\n",
       "      <th>14</th>\n",
       "      <td>1000006</td>\n",
       "      <td>P00231342</td>\n",
       "      <td>F</td>\n",
       "      <td>51-55</td>\n",
       "      <td>9.0</td>\n",
       "      <td>A</td>\n",
       "      <td>1.0</td>\n",
       "      <td>0.0</td>\n",
       "      <td>5.0</td>\n",
       "      <td>8.0</td>\n",
       "      <td>14.0</td>\n",
       "      <td>5378.0</td>\n",
       "    </tr>\n",
       "    <tr>\n",
       "      <th>16</th>\n",
       "      <td>1000006</td>\n",
       "      <td>P0096642</td>\n",
       "      <td>F</td>\n",
       "      <td>51-55</td>\n",
       "      <td>9.0</td>\n",
       "      <td>A</td>\n",
       "      <td>1.0</td>\n",
       "      <td>0.0</td>\n",
       "      <td>2.0</td>\n",
       "      <td>3.0</td>\n",
       "      <td>4.0</td>\n",
       "      <td>13055.0</td>\n",
       "    </tr>\n",
       "    <tr>\n",
       "      <th>...</th>\n",
       "      <td>...</td>\n",
       "      <td>...</td>\n",
       "      <td>...</td>\n",
       "      <td>...</td>\n",
       "      <td>...</td>\n",
       "      <td>...</td>\n",
       "      <td>...</td>\n",
       "      <td>...</td>\n",
       "      <td>...</td>\n",
       "      <td>...</td>\n",
       "      <td>...</td>\n",
       "      <td>...</td>\n",
       "    </tr>\n",
       "    <tr>\n",
       "      <th>262997</th>\n",
       "      <td>1004472</td>\n",
       "      <td>P00262242</td>\n",
       "      <td>F</td>\n",
       "      <td>46-50</td>\n",
       "      <td>16.0</td>\n",
       "      <td>B</td>\n",
       "      <td>0.0</td>\n",
       "      <td>1.0</td>\n",
       "      <td>1.0</td>\n",
       "      <td>11.0</td>\n",
       "      <td>16.0</td>\n",
       "      <td>15175.0</td>\n",
       "    </tr>\n",
       "    <tr>\n",
       "      <th>263001</th>\n",
       "      <td>1004472</td>\n",
       "      <td>P00209742</td>\n",
       "      <td>F</td>\n",
       "      <td>46-50</td>\n",
       "      <td>16.0</td>\n",
       "      <td>B</td>\n",
       "      <td>0.0</td>\n",
       "      <td>1.0</td>\n",
       "      <td>1.0</td>\n",
       "      <td>11.0</td>\n",
       "      <td>15.0</td>\n",
       "      <td>15430.0</td>\n",
       "    </tr>\n",
       "    <tr>\n",
       "      <th>263003</th>\n",
       "      <td>1004472</td>\n",
       "      <td>P00345742</td>\n",
       "      <td>F</td>\n",
       "      <td>46-50</td>\n",
       "      <td>16.0</td>\n",
       "      <td>B</td>\n",
       "      <td>0.0</td>\n",
       "      <td>1.0</td>\n",
       "      <td>1.0</td>\n",
       "      <td>2.0</td>\n",
       "      <td>15.0</td>\n",
       "      <td>15387.0</td>\n",
       "    </tr>\n",
       "    <tr>\n",
       "      <th>263006</th>\n",
       "      <td>1004472</td>\n",
       "      <td>P00034142</td>\n",
       "      <td>F</td>\n",
       "      <td>46-50</td>\n",
       "      <td>16.0</td>\n",
       "      <td>B</td>\n",
       "      <td>0.0</td>\n",
       "      <td>1.0</td>\n",
       "      <td>8.0</td>\n",
       "      <td>13.0</td>\n",
       "      <td>16.0</td>\n",
       "      <td>5861.0</td>\n",
       "    </tr>\n",
       "    <tr>\n",
       "      <th>263011</th>\n",
       "      <td>1004473</td>\n",
       "      <td>P00115142</td>\n",
       "      <td>M</td>\n",
       "      <td>36-45</td>\n",
       "      <td>1.0</td>\n",
       "      <td>B</td>\n",
       "      <td>3.0</td>\n",
       "      <td>0.0</td>\n",
       "      <td>1.0</td>\n",
       "      <td>8.0</td>\n",
       "      <td>17.0</td>\n",
       "      <td>19253.0</td>\n",
       "    </tr>\n",
       "  </tbody>\n",
       "</table>\n",
       "<p>80582 rows × 12 columns</p>\n",
       "</div>"
      ],
      "text/plain": [
       "        User_ID Product_ID Gender    Age  Occupation City_Category  \\\n",
       "1       1000001  P00248942      F   0-17        10.0             A   \n",
       "6       1000004  P00184942      M  46-50         7.0             B   \n",
       "13      1000005  P00145042      M  26-35        20.0             A   \n",
       "14      1000006  P00231342      F  51-55         9.0             A   \n",
       "16      1000006   P0096642      F  51-55         9.0             A   \n",
       "...         ...        ...    ...    ...         ...           ...   \n",
       "262997  1004472  P00262242      F  46-50        16.0             B   \n",
       "263001  1004472  P00209742      F  46-50        16.0             B   \n",
       "263003  1004472  P00345742      F  46-50        16.0             B   \n",
       "263006  1004472  P00034142      F  46-50        16.0             B   \n",
       "263011  1004473  P00115142      M  36-45         1.0             B   \n",
       "\n",
       "        Stay_In_Current_City_Years  Marital_Status  Product_Category_1  \\\n",
       "1                              2.0             0.0                 1.0   \n",
       "6                              2.0             1.0                 1.0   \n",
       "13                             1.0             1.0                 1.0   \n",
       "14                             1.0             0.0                 5.0   \n",
       "16                             1.0             0.0                 2.0   \n",
       "...                            ...             ...                 ...   \n",
       "262997                         0.0             1.0                 1.0   \n",
       "263001                         0.0             1.0                 1.0   \n",
       "263003                         0.0             1.0                 1.0   \n",
       "263006                         0.0             1.0                 8.0   \n",
       "263011                         3.0             0.0                 1.0   \n",
       "\n",
       "        Product_Category_2  Product_Category_3  Purchase  \n",
       "1                      6.0                14.0   15200.0  \n",
       "6                      8.0                17.0   19215.0  \n",
       "13                     2.0                 5.0   15665.0  \n",
       "14                     8.0                14.0    5378.0  \n",
       "16                     3.0                 4.0   13055.0  \n",
       "...                    ...                 ...       ...  \n",
       "262997                11.0                16.0   15175.0  \n",
       "263001                11.0                15.0   15430.0  \n",
       "263003                 2.0                15.0   15387.0  \n",
       "263006                13.0                16.0    5861.0  \n",
       "263011                 8.0                17.0   19253.0  \n",
       "\n",
       "[80582 rows x 12 columns]"
      ]
     },
     "execution_count": 13,
     "metadata": {},
     "output_type": "execute_result"
    }
   ],
   "source": [
    "df"
   ]
  },
  {
   "cell_type": "code",
   "execution_count": 14,
   "id": "d17dd1a6",
   "metadata": {},
   "outputs": [
    {
     "data": {
      "text/plain": [
       "0"
      ]
     },
     "execution_count": 14,
     "metadata": {},
     "output_type": "execute_result"
    }
   ],
   "source": [
    "df.duplicated().sum()"
   ]
  },
  {
   "cell_type": "code",
   "execution_count": 15,
   "id": "d0796360",
   "metadata": {},
   "outputs": [
    {
     "name": "stdout",
     "output_type": "stream",
     "text": [
      "We have 8 numerical features : ['User_ID', 'Occupation', 'Stay_In_Current_City_Years', 'Marital_Status', 'Product_Category_1', 'Product_Category_2', 'Product_Category_3', 'Purchase']\n",
      "\n",
      "We have 4 categorical features : ['Product_ID', 'Gender', 'Age', 'City_Category']\n"
     ]
    }
   ],
   "source": [
    "# define numerical & categorical columns\n",
    "numeric_features = [feature for feature in df.columns if df[feature].dtype != 'O']\n",
    "categorical_features = [feature for feature in df.columns if df[feature].dtype == 'O']\n",
    "\n",
    "# print columns\n",
    "print('We have {} numerical features : {}'.format(len(numeric_features), numeric_features))\n",
    "print('\\nWe have {} categorical features : {}'.format(len(categorical_features), categorical_features))"
   ]
  },
  {
   "cell_type": "code",
   "execution_count": 16,
   "id": "404b909b",
   "metadata": {},
   "outputs": [],
   "source": [
    "col=[\"Gender\",\"Product_ID\",\"Age\",\"City_Category\"]"
   ]
  },
  {
   "cell_type": "code",
   "execution_count": 17,
   "id": "2f45c695",
   "metadata": {},
   "outputs": [],
   "source": [
    "#label encoding on the categorical columns\n",
    "from sklearn.preprocessing import LabelEncoder\n",
    "le=LabelEncoder()"
   ]
  },
  {
   "cell_type": "code",
   "execution_count": 18,
   "id": "248b74c5",
   "metadata": {},
   "outputs": [],
   "source": [
    "for i in col:\n",
    "    df[i]=le.fit_transform(df[i])"
   ]
  },
  {
   "cell_type": "code",
   "execution_count": 19,
   "id": "882b1ed0",
   "metadata": {
    "scrolled": true
   },
   "outputs": [
    {
     "data": {
      "text/html": [
       "<div>\n",
       "<style scoped>\n",
       "    .dataframe tbody tr th:only-of-type {\n",
       "        vertical-align: middle;\n",
       "    }\n",
       "\n",
       "    .dataframe tbody tr th {\n",
       "        vertical-align: top;\n",
       "    }\n",
       "\n",
       "    .dataframe thead th {\n",
       "        text-align: right;\n",
       "    }\n",
       "</style>\n",
       "<table border=\"1\" class=\"dataframe\">\n",
       "  <thead>\n",
       "    <tr style=\"text-align: right;\">\n",
       "      <th></th>\n",
       "      <th>User_ID</th>\n",
       "      <th>Product_ID</th>\n",
       "      <th>Gender</th>\n",
       "      <th>Age</th>\n",
       "      <th>Occupation</th>\n",
       "      <th>City_Category</th>\n",
       "      <th>Stay_In_Current_City_Years</th>\n",
       "      <th>Marital_Status</th>\n",
       "      <th>Product_Category_1</th>\n",
       "      <th>Product_Category_2</th>\n",
       "      <th>Product_Category_3</th>\n",
       "      <th>Purchase</th>\n",
       "    </tr>\n",
       "  </thead>\n",
       "  <tbody>\n",
       "    <tr>\n",
       "      <th>1</th>\n",
       "      <td>1000001</td>\n",
       "      <td>391</td>\n",
       "      <td>0</td>\n",
       "      <td>0</td>\n",
       "      <td>10.0</td>\n",
       "      <td>0</td>\n",
       "      <td>2.0</td>\n",
       "      <td>0.0</td>\n",
       "      <td>1.0</td>\n",
       "      <td>6.0</td>\n",
       "      <td>14.0</td>\n",
       "      <td>15200.0</td>\n",
       "    </tr>\n",
       "    <tr>\n",
       "      <th>6</th>\n",
       "      <td>1000004</td>\n",
       "      <td>284</td>\n",
       "      <td>1</td>\n",
       "      <td>4</td>\n",
       "      <td>7.0</td>\n",
       "      <td>1</td>\n",
       "      <td>2.0</td>\n",
       "      <td>1.0</td>\n",
       "      <td>1.0</td>\n",
       "      <td>8.0</td>\n",
       "      <td>17.0</td>\n",
       "      <td>19215.0</td>\n",
       "    </tr>\n",
       "    <tr>\n",
       "      <th>13</th>\n",
       "      <td>1000005</td>\n",
       "      <td>211</td>\n",
       "      <td>1</td>\n",
       "      <td>2</td>\n",
       "      <td>20.0</td>\n",
       "      <td>0</td>\n",
       "      <td>1.0</td>\n",
       "      <td>1.0</td>\n",
       "      <td>1.0</td>\n",
       "      <td>2.0</td>\n",
       "      <td>5.0</td>\n",
       "      <td>15665.0</td>\n",
       "    </tr>\n",
       "    <tr>\n",
       "      <th>14</th>\n",
       "      <td>1000006</td>\n",
       "      <td>363</td>\n",
       "      <td>0</td>\n",
       "      <td>5</td>\n",
       "      <td>9.0</td>\n",
       "      <td>0</td>\n",
       "      <td>1.0</td>\n",
       "      <td>0.0</td>\n",
       "      <td>5.0</td>\n",
       "      <td>8.0</td>\n",
       "      <td>14.0</td>\n",
       "      <td>5378.0</td>\n",
       "    </tr>\n",
       "    <tr>\n",
       "      <th>16</th>\n",
       "      <td>1000006</td>\n",
       "      <td>517</td>\n",
       "      <td>0</td>\n",
       "      <td>5</td>\n",
       "      <td>9.0</td>\n",
       "      <td>0</td>\n",
       "      <td>1.0</td>\n",
       "      <td>0.0</td>\n",
       "      <td>2.0</td>\n",
       "      <td>3.0</td>\n",
       "      <td>4.0</td>\n",
       "      <td>13055.0</td>\n",
       "    </tr>\n",
       "    <tr>\n",
       "      <th>...</th>\n",
       "      <td>...</td>\n",
       "      <td>...</td>\n",
       "      <td>...</td>\n",
       "      <td>...</td>\n",
       "      <td>...</td>\n",
       "      <td>...</td>\n",
       "      <td>...</td>\n",
       "      <td>...</td>\n",
       "      <td>...</td>\n",
       "      <td>...</td>\n",
       "      <td>...</td>\n",
       "      <td>...</td>\n",
       "    </tr>\n",
       "    <tr>\n",
       "      <th>262997</th>\n",
       "      <td>1004472</td>\n",
       "      <td>402</td>\n",
       "      <td>0</td>\n",
       "      <td>4</td>\n",
       "      <td>16.0</td>\n",
       "      <td>1</td>\n",
       "      <td>0.0</td>\n",
       "      <td>1.0</td>\n",
       "      <td>1.0</td>\n",
       "      <td>11.0</td>\n",
       "      <td>16.0</td>\n",
       "      <td>15175.0</td>\n",
       "    </tr>\n",
       "    <tr>\n",
       "      <th>263001</th>\n",
       "      <td>1004472</td>\n",
       "      <td>337</td>\n",
       "      <td>0</td>\n",
       "      <td>4</td>\n",
       "      <td>16.0</td>\n",
       "      <td>1</td>\n",
       "      <td>0.0</td>\n",
       "      <td>1.0</td>\n",
       "      <td>1.0</td>\n",
       "      <td>11.0</td>\n",
       "      <td>15.0</td>\n",
       "      <td>15430.0</td>\n",
       "    </tr>\n",
       "    <tr>\n",
       "      <th>263003</th>\n",
       "      <td>1004472</td>\n",
       "      <td>480</td>\n",
       "      <td>0</td>\n",
       "      <td>4</td>\n",
       "      <td>16.0</td>\n",
       "      <td>1</td>\n",
       "      <td>0.0</td>\n",
       "      <td>1.0</td>\n",
       "      <td>1.0</td>\n",
       "      <td>2.0</td>\n",
       "      <td>15.0</td>\n",
       "      <td>15387.0</td>\n",
       "    </tr>\n",
       "    <tr>\n",
       "      <th>263006</th>\n",
       "      <td>1004472</td>\n",
       "      <td>49</td>\n",
       "      <td>0</td>\n",
       "      <td>4</td>\n",
       "      <td>16.0</td>\n",
       "      <td>1</td>\n",
       "      <td>0.0</td>\n",
       "      <td>1.0</td>\n",
       "      <td>8.0</td>\n",
       "      <td>13.0</td>\n",
       "      <td>16.0</td>\n",
       "      <td>5861.0</td>\n",
       "    </tr>\n",
       "    <tr>\n",
       "      <th>263011</th>\n",
       "      <td>1004473</td>\n",
       "      <td>159</td>\n",
       "      <td>1</td>\n",
       "      <td>3</td>\n",
       "      <td>1.0</td>\n",
       "      <td>1</td>\n",
       "      <td>3.0</td>\n",
       "      <td>0.0</td>\n",
       "      <td>1.0</td>\n",
       "      <td>8.0</td>\n",
       "      <td>17.0</td>\n",
       "      <td>19253.0</td>\n",
       "    </tr>\n",
       "  </tbody>\n",
       "</table>\n",
       "<p>80582 rows × 12 columns</p>\n",
       "</div>"
      ],
      "text/plain": [
       "        User_ID  Product_ID  Gender  Age  Occupation  City_Category  \\\n",
       "1       1000001         391       0    0        10.0              0   \n",
       "6       1000004         284       1    4         7.0              1   \n",
       "13      1000005         211       1    2        20.0              0   \n",
       "14      1000006         363       0    5         9.0              0   \n",
       "16      1000006         517       0    5         9.0              0   \n",
       "...         ...         ...     ...  ...         ...            ...   \n",
       "262997  1004472         402       0    4        16.0              1   \n",
       "263001  1004472         337       0    4        16.0              1   \n",
       "263003  1004472         480       0    4        16.0              1   \n",
       "263006  1004472          49       0    4        16.0              1   \n",
       "263011  1004473         159       1    3         1.0              1   \n",
       "\n",
       "        Stay_In_Current_City_Years  Marital_Status  Product_Category_1  \\\n",
       "1                              2.0             0.0                 1.0   \n",
       "6                              2.0             1.0                 1.0   \n",
       "13                             1.0             1.0                 1.0   \n",
       "14                             1.0             0.0                 5.0   \n",
       "16                             1.0             0.0                 2.0   \n",
       "...                            ...             ...                 ...   \n",
       "262997                         0.0             1.0                 1.0   \n",
       "263001                         0.0             1.0                 1.0   \n",
       "263003                         0.0             1.0                 1.0   \n",
       "263006                         0.0             1.0                 8.0   \n",
       "263011                         3.0             0.0                 1.0   \n",
       "\n",
       "        Product_Category_2  Product_Category_3  Purchase  \n",
       "1                      6.0                14.0   15200.0  \n",
       "6                      8.0                17.0   19215.0  \n",
       "13                     2.0                 5.0   15665.0  \n",
       "14                     8.0                14.0    5378.0  \n",
       "16                     3.0                 4.0   13055.0  \n",
       "...                    ...                 ...       ...  \n",
       "262997                11.0                16.0   15175.0  \n",
       "263001                11.0                15.0   15430.0  \n",
       "263003                 2.0                15.0   15387.0  \n",
       "263006                13.0                16.0    5861.0  \n",
       "263011                 8.0                17.0   19253.0  \n",
       "\n",
       "[80582 rows x 12 columns]"
      ]
     },
     "execution_count": 19,
     "metadata": {},
     "output_type": "execute_result"
    }
   ],
   "source": [
    "df"
   ]
  },
  {
   "cell_type": "markdown",
   "id": "27d70705",
   "metadata": {},
   "source": [
    "## Data visualization "
   ]
  },
  {
   "cell_type": "code",
   "execution_count": 20,
   "id": "7e3ae89f",
   "metadata": {},
   "outputs": [
    {
     "data": {
      "text/plain": [
       "<AxesSubplot:xlabel='Age', ylabel='count'>"
      ]
     },
     "execution_count": 20,
     "metadata": {},
     "output_type": "execute_result"
    },
    {
     "data": {
      "image/png": "[encoded data removed]",
      "text/plain": [
       "<Figure size 640x480 with 1 Axes>"
      ]
     },
     "metadata": {},
     "output_type": "display_data"
    }
   ],
   "source": [
    "sns.countplot(df[\"Age\"])"
   ]
  },
  {
   "cell_type": "markdown",
   "id": "e1dda1c2",
   "metadata": {},
   "source": [
    "Insight: most of the purchases are made by people between age 26-35"
   ]
  },
  {
   "cell_type": "code",
   "execution_count": 22,
   "id": "38be8880",
   "metadata": {},
   "outputs": [
    {
     "data": {
      "text/plain": [
       "<AxesSubplot:xlabel='Product_Category_1', ylabel='count'>"
      ]
     },
     "execution_count": 22,
     "metadata": {},
     "output_type": "execute_result"
    },
    {
     "data": {
      "image/png": "[encoded data removed]",
      "text/plain": [
       "<Figure size 1000x500 with 1 Axes>"
      ]
     },
     "metadata": {},
     "output_type": "display_data"
    }
   ],
   "source": [
    "plt.figure(figsize=(10,5))\n",
    "sns.countplot(x='Product_Category_1',data=df)"
   ]
  },
  {
   "cell_type": "markdown",
   "id": "22108f26",
   "metadata": {},
   "source": [
    "Insight: product 1 is purchased more often"
   ]
  },
  {
   "cell_type": "code",
   "execution_count": 24,
   "id": "935096b4",
   "metadata": {
    "scrolled": true
   },
   "outputs": [
    {
     "data": {
      "text/plain": [
       "<AxesSubplot:xlabel='Age', ylabel='Purchase'>"
      ]
     },
     "execution_count": 24,
     "metadata": {},
     "output_type": "execute_result"
    },
    {
     "data": {
      "image/png": "[encoded data removed]",
      "text/plain": [
       "<Figure size 640x480 with 1 Axes>"
      ]
     },
     "metadata": {},
     "output_type": "display_data"
    }
   ],
   "source": [
    "sns.barplot(x=\"Age\",y=\"Purchase\",data=df)"
   ]
  },
  {
   "cell_type": "code",
   "execution_count": 25,
   "id": "291a94c5",
   "metadata": {
    "scrolled": true
   },
   "outputs": [
    {
     "data": {
      "image/png": "[encoded data removed]",
      "text/plain": [
       "<Figure size 1500x700 with 2 Axes>"
      ]
     },
     "metadata": {},
     "output_type": "display_data"
    }
   ],
   "source": [
    "# Histogram and KDE\n",
    "fig, axs = plt.subplots(1, 2, figsize=(15, 7))\n",
    "plt.subplot(121)\n",
    "sns.histplot(data=df,x='Purchase',bins=30,kde=True,color='g')\n",
    "plt.subplot(122)\n",
    "sns.histplot(data=df,x='Purchase',kde=True,hue='Gender')\n",
    "plt.show()"
   ]
  },
  {
   "cell_type": "markdown",
   "id": "5535db1c",
   "metadata": {},
   "source": [
    "Insight: Most of the purchases are made by male customers"
   ]
  },
  {
   "cell_type": "code",
   "execution_count": null,
   "id": "c483b4f6",
   "metadata": {},
   "outputs": [],
   "source": [
    "fig, axs = plt.subplots(1, 2, figsize=(15, 7))\n",
    "plt.subplot(121)\n",
    "sns.histplot(data=df,x='Age',bins=30,kde=True,color='g')\n",
    "plt.subplot(122)\n",
    "sns.histplot(data=df,x='Age',kde=True,hue='Purchase')\n",
    "plt.show()"
   ]
  },
  {
   "cell_type": "code",
   "execution_count": null,
   "id": "c71849d1",
   "metadata": {},
   "outputs": [],
   "source": [
    "plt.subplots(1,3,figsize=(25,6))\n",
    "plt.subplot(141)\n",
    "sns.histplot(data=df,x='Purchase',kde=True,hue='Age')\n",
    "plt.subplot(142)\n",
    "sns.histplot(data=df[df.Gender=='0'],x='Purchase',kde=True,hue='Age')\n",
    "plt.subplot(143)\n",
    "sns.histplot(data=df[df.Gender=='1'],x='Purchase',kde=True,hue='Age')\n",
    "plt.show()"
   ]
  },
  {
   "cell_type": "code",
   "execution_count": null,
   "id": "ca08abc9",
   "metadata": {},
   "outputs": [],
   "source": [
    "plt.rcParams['figure.figsize'] = (30, 12)\n",
    "\n",
    "plt.subplot(1, 5, 1)\n",
    "size = df['Gender'].value_counts()\n",
    "labels = '0', '1'\n",
    "color = ['red','green']\n",
    "\n",
    "\n",
    "plt.pie(size, colors = color, labels = labels,autopct = '.%2f%%')\n",
    "plt.title('Gender', fontsize = 20)\n",
    "plt.axis('off')\n",
    "\n",
    "\n",
    "\n",
    "plt.subplot(1, 5, 2)\n",
    "size = df['City_Category'].value_counts()\n",
    "labels = '0','1'\n",
    "color = ['red', 'green']\n",
    "\n"
   ]
  },
  {
   "cell_type": "code",
   "execution_count": null,
   "id": "57028831",
   "metadata": {},
   "outputs": [],
   "source": [
    "f,ax=plt.subplots(1,2,figsize=(20,10))\n",
    "sns.countplot(x=df['Gender'],data=df,palette ='bright',ax=ax[0],saturation=0.95)\n",
    "for container in ax[0].containers:\n",
    "    ax[0].bar_label(container,color='black',size=20)\n",
    "    \n",
    "plt.pie(x=df['Gender'].value_counts(),labels=['1','0'],explode=[0,0.1],autopct='%1.1f%%',shadow=True,colors=['#ff4d4d','#ff8000'])\n",
    "plt.show()"
   ]
  },
  {
   "cell_type": "code",
   "execution_count": null,
   "id": "53b4b5df",
   "metadata": {},
   "outputs": [],
   "source": [
    "df.corr()"
   ]
  },
  {
   "cell_type": "code",
   "execution_count": null,
   "id": "9073a9c6",
   "metadata": {},
   "outputs": [],
   "source": [
    "fig=plt.figure(figsize=(10,5))\n",
    "sns.heatmap(df.corr(),annot=True,cmap=\"rainbow\")\n",
    "plt.show()"
   ]
  },
  {
   "cell_type": "markdown",
   "id": "62fabc2f",
   "metadata": {},
   "source": [
    "# Statistical Tests(Hypothesis testing)"
   ]
  },
  {
   "cell_type": "markdown",
   "id": "41bf0e41",
   "metadata": {},
   "source": [
    "# one Sample T test"
   ]
  },
  {
   "cell_type": "markdown",
   "id": "1e3ff533",
   "metadata": {},
   "source": [
    "# a. It was observed that the average purchase made by the Men between the age 18-25 was 10000. Is it still the same?"
   ]
  },
  {
   "cell_type": "code",
   "execution_count": null,
   "id": "f19712bc",
   "metadata": {},
   "outputs": [],
   "source": [
    "new_data = df[(df['Age'] == 1) & (df['Gender'] == 1)]"
   ]
  },
  {
   "cell_type": "code",
   "execution_count": null,
   "id": "b1da7f06",
   "metadata": {
    "scrolled": false
   },
   "outputs": [],
   "source": [
    "new_data"
   ]
  },
  {
   "cell_type": "code",
   "execution_count": null,
   "id": "4f4d5336",
   "metadata": {},
   "outputs": [],
   "source": [
    "sample = new_data.sample(1200, random_state=5)"
   ]
  },
  {
   "cell_type": "code",
   "execution_count": null,
   "id": "25b677ec",
   "metadata": {},
   "outputs": [],
   "source": [
    "sample"
   ]
  },
  {
   "cell_type": "markdown",
   "id": "5f03b580",
   "metadata": {},
   "source": [
    "## null hypothesis= mean will be equal to 10000\n",
    "## alternate hypothesis= mean will not be equal to 10000"
   ]
  },
  {
   "cell_type": "code",
   "execution_count": null,
   "id": "1005cc02",
   "metadata": {},
   "outputs": [],
   "source": [
    "#one sample t-test\n",
    "from scipy.stats import ttest_1samp\n",
    "a_mean=10000"
   ]
  },
  {
   "cell_type": "code",
   "execution_count": null,
   "id": "551cbd44",
   "metadata": {},
   "outputs": [],
   "source": [
    "t_stat, p_value = ttest_1samp(sample['Purchase'], a_mean)\n",
    "print(t_stat, p_value)"
   ]
  },
  {
   "cell_type": "code",
   "execution_count": null,
   "id": "baf3fd11",
   "metadata": {},
   "outputs": [],
   "source": [
    "sample_mean = sample['Purchase'].mean() \n",
    "sample_mean"
   ]
  },
  {
   "cell_type": "markdown",
   "id": "2b642d52",
   "metadata": {},
   "source": [
    "Rejecting null hypothesis\n",
    "Accepting the Alternate hypothesis"
   ]
  },
  {
   "cell_type": "markdown",
   "id": "d19bcf95",
   "metadata": {},
   "source": [
    "## b. It was observed that the percentage of women of that spend more than 10000 was 35%. Is it still the same?"
   ]
  },
  {
   "cell_type": "code",
   "execution_count": null,
   "id": "79f2038d",
   "metadata": {},
   "outputs": [],
   "source": [
    "data_new = df[(df['Purchase'] > 10000)]"
   ]
  },
  {
   "cell_type": "code",
   "execution_count": null,
   "id": "fc1f4454",
   "metadata": {},
   "outputs": [],
   "source": [
    "data_new"
   ]
  },
  {
   "cell_type": "code",
   "execution_count": null,
   "id": "3bed835d",
   "metadata": {},
   "outputs": [],
   "source": [
    "#null hypothesis - proportion is 35%.\n",
    "#alternate hypothesis - proportion is not 35%. "
   ]
  },
  {
   "cell_type": "code",
   "execution_count": null,
   "id": "0707ec4f",
   "metadata": {},
   "outputs": [],
   "source": [
    "data_new['Gender'].value_counts()[0]"
   ]
  },
  {
   "cell_type": "code",
   "execution_count": null,
   "id": "45ba5217",
   "metadata": {},
   "outputs": [],
   "source": [
    "len(data_new)"
   ]
  },
  {
   "cell_type": "code",
   "execution_count": null,
   "id": "a48a39e9",
   "metadata": {},
   "outputs": [],
   "source": [
    "#No of women in the sample\n",
    "count = data_new['Gender'].value_counts()[0]\n",
    "\n",
    "#number of observations\n",
    "nobs = len(data_new)\n",
    "\n",
    "# hypothesised value\n",
    "p0 = 0.35"
   ]
  },
  {
   "cell_type": "code",
   "execution_count": null,
   "id": "22a6d156",
   "metadata": {},
   "outputs": [],
   "source": [
    "#one sample z test\n",
    "from statsmodels.stats.proportion import proportions_ztest"
   ]
  },
  {
   "cell_type": "code",
   "execution_count": null,
   "id": "d3e18a98",
   "metadata": {},
   "outputs": [],
   "source": [
    "z_stat, p_val = proportions_ztest(count=count,nobs=nobs,value=p0)"
   ]
  },
  {
   "cell_type": "code",
   "execution_count": null,
   "id": "3eaed670",
   "metadata": {},
   "outputs": [],
   "source": [
    "print(z_stat, p_val)"
   ]
  },
  {
   "cell_type": "code",
   "execution_count": null,
   "id": "eb4ddbe8",
   "metadata": {},
   "outputs": [],
   "source": [
    "p value<0.05 , null hypothesis will be reject\n",
    "Acepting alternative hypothesis"
   ]
  },
  {
   "cell_type": "markdown",
   "id": "77df890b",
   "metadata": {},
   "source": [
    "## c. Is the average purchase made by men and women of the age18-25 same?"
   ]
  },
  {
   "cell_type": "code",
   "execution_count": null,
   "id": "d029585c",
   "metadata": {},
   "outputs": [],
   "source": [
    "data_men = df[(df['Gender'] == 1)& (df['Age'] == 1)]\n",
    "data_women = df[(df['Gender'] == 0) & (df['Age'] == 1)]"
   ]
  },
  {
   "cell_type": "code",
   "execution_count": null,
   "id": "bc8850d9",
   "metadata": {},
   "outputs": [],
   "source": [
    "data_men"
   ]
  },
  {
   "cell_type": "code",
   "execution_count": null,
   "id": "09adf9a8",
   "metadata": {},
   "outputs": [],
   "source": [
    "data_women"
   ]
  },
  {
   "cell_type": "code",
   "execution_count": null,
   "id": "8c7eade9",
   "metadata": {},
   "outputs": [],
   "source": [
    "#creating samples\n",
    "data_men_sample = data_men.sample(500, random_state=0)\n",
    "data_women_sample = data_women.sample(500, random_state=0)"
   ]
  },
  {
   "cell_type": "code",
   "execution_count": null,
   "id": "b2d2a7b3",
   "metadata": {},
   "outputs": [],
   "source": [
    "data_men_sample"
   ]
  },
  {
   "cell_type": "code",
   "execution_count": null,
   "id": "f02a327b",
   "metadata": {
    "scrolled": true
   },
   "outputs": [],
   "source": [
    "data_women_sample"
   ]
  },
  {
   "cell_type": "code",
   "execution_count": null,
   "id": "f778f773",
   "metadata": {},
   "outputs": [],
   "source": [
    "data_women_sample[\"Purchase\"].var()"
   ]
  },
  {
   "cell_type": "code",
   "execution_count": null,
   "id": "8326f321",
   "metadata": {},
   "outputs": [],
   "source": [
    "data_men_sample[\"Purchase\"].var()"
   ]
  },
  {
   "cell_type": "code",
   "execution_count": null,
   "id": "713e5fe7",
   "metadata": {},
   "outputs": [],
   "source": [
    "from scipy.stats import ttest_ind\n",
    "\n",
    "t_stat_2, p_val_2 = ttest_ind(data_men_sample[\"Purchase\"], data_women_sample[\"Purchase\"], equal_var=False)\n"
   ]
  },
  {
   "cell_type": "code",
   "execution_count": null,
   "id": "89a11c5e",
   "metadata": {},
   "outputs": [],
   "source": [
    "print(t_stat_2, p_val_2)"
   ]
  },
  {
   "cell_type": "code",
   "execution_count": null,
   "id": "6e6ef5be",
   "metadata": {},
   "outputs": [],
   "source": [
    "pvalue<0.05 Reject the null hypothesis\n",
    "accept alternate hypothesis"
   ]
  },
  {
   "cell_type": "markdown",
   "id": "74516d2f",
   "metadata": {},
   "source": [
    "## d. Is the percentage of men who have spent more than 10000 the same for the ages 18-25 and 26-35?"
   ]
  },
  {
   "cell_type": "code",
   "execution_count": null,
   "id": "741816dd",
   "metadata": {},
   "outputs": [],
   "source": [
    "\n",
    "data_age1 = df[(df['Age'] == 1) & (df['Purchase'] > 10000)]\n",
    "data_age2 = df[(df['Age'] == 2) & (df['Purchase'] > 10000)]"
   ]
  },
  {
   "cell_type": "code",
   "execution_count": null,
   "id": "8b1a7ffb",
   "metadata": {},
   "outputs": [],
   "source": [
    "data_age1"
   ]
  },
  {
   "cell_type": "code",
   "execution_count": null,
   "id": "a796ca5e",
   "metadata": {
    "scrolled": true
   },
   "outputs": [],
   "source": [
    "data_age2"
   ]
  },
  {
   "cell_type": "code",
   "execution_count": null,
   "id": "ea51d63b",
   "metadata": {},
   "outputs": [],
   "source": [
    "data_age1_sample = data_age1.sample(1000, random_state=0)\n",
    "data_age2_sample = data_age2.sample(2000, random_state=0)"
   ]
  },
  {
   "cell_type": "code",
   "execution_count": null,
   "id": "a8dfcb1e",
   "metadata": {},
   "outputs": [],
   "source": [
    "count = [(data_age1_sample['Gender'] == 1).sum(), (data_age2_sample['Gender'] == 1).sum()]\n",
    "nobs=[1000,2000]"
   ]
  },
  {
   "cell_type": "code",
   "execution_count": null,
   "id": "c37fd89e",
   "metadata": {},
   "outputs": [],
   "source": [
    "(data_age1_sample['Gender'] == 1).sum()"
   ]
  },
  {
   "cell_type": "code",
   "execution_count": null,
   "id": "1540f917",
   "metadata": {},
   "outputs": [],
   "source": [
    "(data_age2_sample['Gender'] == 1).sum()"
   ]
  },
  {
   "cell_type": "code",
   "execution_count": null,
   "id": "1590c304",
   "metadata": {},
   "outputs": [],
   "source": [
    "from statsmodels.stats.proportion import proportions_ztest\n",
    "\n",
    "stat_2sample, p_value_2sample = proportions_ztest(count=count,nobs=nobs,value=0)"
   ]
  },
  {
   "cell_type": "code",
   "execution_count": null,
   "id": "00549cbb",
   "metadata": {},
   "outputs": [],
   "source": [
    "stat_2sample, p_value_2sample"
   ]
  },
  {
   "cell_type": "markdown",
   "id": "e21668c2",
   "metadata": {},
   "source": [
    "# Accepting the null hypothesis\n"
   ]
  },
  {
   "cell_type": "code",
   "execution_count": null,
   "id": "ac10baf3",
   "metadata": {},
   "outputs": [],
   "source": []
  }
 ],
 "metadata": {
  "kernelspec": {
   "display_name": "Python 3 (ipykernel)",
   "language": "python",
   "name": "python3"
  },
  "language_info": {
   "codemirror_mode": {
    "name": "ipython",
    "version": 3
   },
   "file_extension": ".py",
   "mimetype": "text/x-python",
   "name": "python",
   "nbconvert_exporter": "python",
   "pygments_lexer": "ipython3",
   "version": "3.9.13"
  }
 },
 "nbformat": 4,
 "nbformat_minor": 5
}
